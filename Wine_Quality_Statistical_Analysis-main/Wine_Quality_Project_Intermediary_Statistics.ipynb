{
  "cells": [
    {
      "cell_type": "markdown",
      "metadata": {
        "id": "view-in-github",
        "colab_type": "text"
      },
      "source": [
        "<a href=\"https://colab.research.google.com/github/bannis14/Wine_Quality_Statistical_Analysis/blob/main/Wine_Quality_Project_Intermediary_Statistics.ipynb\" target=\"_parent\"><img src=\"https://colab.research.google.com/assets/colab-badge.svg\" alt=\"Open In Colab\"/></a>"
      ]
    },
    {
      "cell_type": "markdown",
      "source": [
        "# Wine Quality Statistical Analysis"
      ],
      "metadata": {
        "id": "0b60fc17"
      },
      "id": "0b60fc17"
    },
    {
      "cell_type": "code",
      "execution_count": null,
      "id": "6f190dce",
      "metadata": {
        "id": "6f190dce"
      },
      "outputs": [],
      "source": [
        "%cd /content/drive/MyDrive/Business Analyst course/Statistics and Descriptive Analytics/Intermediary Statistics"
      ]
    },
    {
      "cell_type": "code",
      "execution_count": null,
      "id": "6d78a323",
      "metadata": {
        "id": "6d78a323"
      },
      "outputs": [],
      "source": [
        "# Libraries\n",
        "import pandas as pd\n",
        "import scipy.stats as st\n",
        "import math as m\n",
        "import statsmodels.stats.api as s"
      ]
    },
    {
      "cell_type": "code",
      "execution_count": null,
      "id": "88026413",
      "metadata": {
        "id": "88026413"
      },
      "outputs": [],
      "source": [
        "#Data\n",
        "df = pd.read_csv(\"Wine-quality-challenge.csv\")\n",
        "df.head()"
      ]
    },
    {
      "cell_type": "markdown",
      "source": [
        "# Normal Distribution (Guassian)"
      ],
      "metadata": {
        "id": "df47975b"
      },
      "id": "df47975b"
    },
    {
      "cell_type": "code",
      "execution_count": null,
      "id": "e84630f2",
      "metadata": {
        "id": "e84630f2"
      },
      "outputs": [],
      "source": [
        "# Density plot of chlorides\n",
        "df.chlorides.plot.density()"
      ]
    },
    {
      "cell_type": "code",
      "execution_count": null,
      "id": "4e66f823",
      "metadata": {
        "id": "4e66f823"
      },
      "outputs": [],
      "source": [
        "# Check the number of observations within X standard deviations (#68-95-99 check)\n",
        "print(df.loc[(df.chlorides <= df.chlorides.mean() + 1 * df.chlorides.std()) &\n",
        "       (df.chlorides >= df.chlorides.mean() - 1 * df.chlorides.std())].chlorides.count() / df.chlorides.count())"
      ]
    },
    {
      "cell_type": "code",
      "execution_count": null,
      "id": "e7f90c18",
      "metadata": {
        "id": "e7f90c18"
      },
      "outputs": [],
      "source": [
        "print(df.loc[(df.chlorides <= df.chlorides.mean() + 2 * df.chlorides.std()) &\n",
        "       (df.chlorides >= df.chlorides.mean() - 2 * df.chlorides.std())].chlorides.count() / df.chlorides.count())"
      ]
    },
    {
      "cell_type": "code",
      "execution_count": null,
      "id": "2dd83f38",
      "metadata": {
        "id": "2dd83f38"
      },
      "outputs": [],
      "source": [
        "print(df.loc[(df.chlorides <= df.chlorides.mean() + 3 * df.chlorides.std()) &\n",
        "       (df.chlorides >= df.chlorides.mean() - 3 * df.chlorides.std())].chlorides.count() / df.chlorides.count())"
      ]
    },
    {
      "cell_type": "code",
      "execution_count": null,
      "id": "b3838aa7",
      "metadata": {
        "id": "b3838aa7"
      },
      "outputs": [],
      "source": [
        "# plot the alcohol distribution\n",
        "df.alcohol.plot.density();"
      ]
    },
    {
      "cell_type": "code",
      "execution_count": null,
      "id": "e108f28a",
      "metadata": {
        "id": "e108f28a"
      },
      "outputs": [],
      "source": [
        "# Check how many observations are within 3 standard deviations\n",
        "print(df.loc[(df.alcohol <= df. alcohol.mean() + 3 * df.alcohol.std()) &\n",
        "       (df.alcohol >= df.alcohol.mean() - 3 * df.alcohol.std())].alcohol.count()/df.alcohol.count())"
      ]
    },
    {
      "cell_type": "code",
      "execution_count": null,
      "id": "f0af2683",
      "metadata": {
        "id": "f0af2683"
      },
      "outputs": [],
      "source": [
        "print(df.loc[(df.alcohol <= df. alcohol.mean() + 2 * df.alcohol.std()) &\n",
        "       (df.alcohol >= df.alcohol.mean() - 2 * df.alcohol.std())].alcohol.count()/df.alcohol.count())"
      ]
    },
    {
      "cell_type": "code",
      "execution_count": null,
      "id": "580a5ed0",
      "metadata": {
        "id": "580a5ed0"
      },
      "outputs": [],
      "source": [
        "print(df.loc[(df.alcohol <= df. alcohol.mean() +1 * df.alcohol.std()) &\n",
        "       (df.alcohol >= df.alcohol.mean() - 1 * df.alcohol.std())].alcohol.count()/df.alcohol.count())"
      ]
    },
    {
      "cell_type": "markdown",
      "source": [
        "#Shapiro Wilks Test"
      ],
      "metadata": {
        "id": "5d915dc6"
      },
      "id": "5d915dc6"
    },
    {
      "cell_type": "code",
      "execution_count": null,
      "id": "e283ea9a",
      "metadata": {
        "id": "e283ea9a"
      },
      "outputs": [],
      "source": [
        "## Shapiro-wilks test for normality\n",
        "stat, p = st.shapiro(df.chlorides)"
      ]
    },
    {
      "cell_type": "code",
      "execution_count": null,
      "id": "c239cd70",
      "metadata": {
        "id": "c239cd70"
      },
      "outputs": [],
      "source": [
        "# condition\n",
        "if p > 0.05:\n",
        "  print('Sample looks normal(guassian) fail to reject H0')\n",
        "else:\n",
        "  print('Sample does not look normal(gaussian) reject H0')"
      ]
    },
    {
      "cell_type": "code",
      "execution_count": null,
      "id": "28a7de2f",
      "metadata": {
        "id": "28a7de2f"
      },
      "outputs": [],
      "source": [
        "#Shapiro Wilks test for sulphates\n",
        "stat, p = st.shapiro(df.sulphates)\n",
        "if p > 0.05:\n",
        "  print(\"Distribution looks normal. Fail to reject H0\")\n",
        "else:\n",
        "  print(\"Distribution does not look normal, reject H0\")"
      ]
    },
    {
      "cell_type": "markdown",
      "source": [
        "#Finding The Standard Error"
      ],
      "metadata": {
        "id": "b5670b3a"
      },
      "id": "b5670b3a"
    },
    {
      "cell_type": "code",
      "execution_count": null,
      "id": "10673068",
      "metadata": {
        "id": "10673068"
      },
      "outputs": [],
      "source": [
        "## SE doing a function\n",
        "st.sem(df.alcohol)"
      ]
    },
    {
      "cell_type": "code",
      "execution_count": null,
      "id": "bb851e7f",
      "metadata": {
        "id": "bb851e7f"
      },
      "outputs": [],
      "source": [
        "## SE doing the computations ourselfs ( Standard deviations / square root of observations )\n",
        "df.alcohol.std() / m.sqrt(df.alcohol.count())"
      ]
    },
    {
      "cell_type": "code",
      "execution_count": null,
      "id": "872f2d62",
      "metadata": {
        "id": "872f2d62"
      },
      "outputs": [],
      "source": [
        "# Standard Error of pH\n",
        "st.sem(df.pH)\n",
        "df.pH.std() / m.sqrt(df.pH.count())"
      ]
    },
    {
      "cell_type": "markdown",
      "source": [
        "#Finding The Confidence Interval"
      ],
      "metadata": {
        "id": "083e4a1d"
      },
      "id": "083e4a1d"
    },
    {
      "cell_type": "code",
      "execution_count": null,
      "id": "8a1b492f",
      "metadata": {
        "id": "8a1b492f"
      },
      "outputs": [],
      "source": [
        "# Confidence interval of the mean of Citric Acid\n",
        "print(df[\"citric acid\"].mean())\n",
        "st.norm.interval(alpha=0.95,\n",
        "                 loc=df[\"citric acid\"].mean(),\n",
        "                 scale = st.sem(df[\"citric acid\"]))"
      ]
    },
    {
      "cell_type": "code",
      "execution_count": null,
      "id": "905fbd32",
      "metadata": {
        "id": "905fbd32"
      },
      "outputs": [],
      "source": [
        "df[\"citric acid\"].hist()"
      ]
    },
    {
      "cell_type": "code",
      "execution_count": null,
      "id": "94c35819",
      "metadata": {
        "id": "94c35819"
      },
      "outputs": [],
      "source": [
        "# Confidence Interval of the density mean\n",
        "st.norm.interval(alpha=0.95,\n",
        "                 loc = df[\"density\"].mean(),\n",
        "                 scale =st.sem(df.density))"
      ]
    },
    {
      "cell_type": "code",
      "execution_count": null,
      "id": "e5993dea",
      "metadata": {
        "id": "e5993dea"
      },
      "outputs": [],
      "source": [
        "df.density.hist()"
      ]
    },
    {
      "cell_type": "code",
      "source": [
        "from google.colab import drive\n",
        "drive.mount('/content/drive')"
      ],
      "metadata": {
        "colab": {
          "base_uri": "https://localhost:8080/"
        },
        "id": "Ahl72Ok0JxtB",
        "outputId": "a7560fdc-484c-4383-a1d3-1f087a0a7c93"
      },
      "id": "Ahl72Ok0JxtB",
      "execution_count": null,
      "outputs": [
        {
          "output_type": "stream",
          "name": "stdout",
          "text": [
            "Mounted at /content/drive\n"
          ]
        }
      ]
    },
    {
      "cell_type": "code",
      "source": [],
      "metadata": {
        "id": "4XsVbJ88J0WT"
      },
      "id": "4XsVbJ88J0WT",
      "execution_count": null,
      "outputs": []
    }
  ],
  "metadata": {
    "jupytext": {
      "cell_metadata_filter": "-all",
      "main_language": "python",
      "notebook_metadata_filter": "-all"
    },
    "colab": {
      "provenance": [],
      "include_colab_link": true
    },
    "language_info": {
      "name": "python"
    },
    "kernelspec": {
      "name": "python3",
      "display_name": "Python 3"
    }
  },
  "nbformat": 4,
  "nbformat_minor": 5
}